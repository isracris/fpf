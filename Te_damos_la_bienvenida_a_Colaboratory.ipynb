{
  "cells": [
    {
      "cell_type": "markdown",
      "metadata": {
        "id": "view-in-github",
        "colab_type": "text"
      },
      "source": [
        "<a href=\"https://colab.research.google.com/github/isracris/fpf/blob/main/Te_damos_la_bienvenida_a_Colaboratory.ipynb\" target=\"_parent\"><img src=\"https://colab.research.google.com/assets/colab-badge.svg\" alt=\"Open In Colab\"/></a>"
      ]
    },
    {
      "cell_type": "markdown",
      "source": [],
      "metadata": {
        "id": "CJNJm3RBYk2K"
      }
    },
    {
      "cell_type": "code",
      "source": [
        "#determinar si un alumno aprueba o reprueba en un curso basado en su promedio\n",
        "\n",
        "#ingrese las tres calificaciones\n",
        "calificacion1 = float(input(\"ingrese la primera calificacion: \"))\n",
        "calificacion2 = float(input(\"ingrese la segunda calificacion: \"))\n",
        "calificacion3 = float(input(\"ingrese la tercera calificacion: \"))\n",
        "\n",
        "#calcular el promedio\n",
        "promedio = (calificacion1 + calificaion2 + calificacion3) /3\n",
        "\n",
        "#verificar si el alumno aprueba a reprueba\n",
        "if promedio >= 13:\n",
        "  print (f\"el alumno aprueba con el promedio de: {promedio: .2f}\")\n",
        "else:\n",
        "  print(f\"el alumno reprueba con el promedio de: {promedio: .2f}\")"
      ],
      "metadata": {
        "id": "FQB1tdj8YmcO",
        "outputId": "57a779ea-42aa-4039-da33-30dbd9f13daf",
        "colab": {
          "base_uri": "https://localhost:8080/",
          "height": 263
        }
      },
      "execution_count": 3,
      "outputs": [
        {
          "name": "stdout",
          "output_type": "stream",
          "text": [
            "ingrese la primera calificacion: 12\n",
            "ingrese la segunda calificacion: 12\n",
            "ingrese la tercera calificacion: 12\n"
          ]
        },
        {
          "output_type": "error",
          "ename": "NameError",
          "evalue": "name 'calificaion2' is not defined",
          "traceback": [
            "\u001b[0;31m---------------------------------------------------------------------------\u001b[0m",
            "\u001b[0;31mNameError\u001b[0m                                 Traceback (most recent call last)",
            "\u001b[0;32m<ipython-input-3-3cc42c6f606f>\u001b[0m in \u001b[0;36m<cell line: 9>\u001b[0;34m()\u001b[0m\n\u001b[1;32m      7\u001b[0m \u001b[0;34m\u001b[0m\u001b[0m\n\u001b[1;32m      8\u001b[0m \u001b[0;31m#calcular el promedio\u001b[0m\u001b[0;34m\u001b[0m\u001b[0;34m\u001b[0m\u001b[0m\n\u001b[0;32m----> 9\u001b[0;31m \u001b[0mpromedio\u001b[0m \u001b[0;34m=\u001b[0m \u001b[0;34m(\u001b[0m\u001b[0mcalificacion1\u001b[0m \u001b[0;34m+\u001b[0m \u001b[0mcalificaion2\u001b[0m \u001b[0;34m+\u001b[0m \u001b[0mcalificacion3\u001b[0m\u001b[0;34m)\u001b[0m \u001b[0;34m/\u001b[0m\u001b[0;36m3\u001b[0m\u001b[0;34m\u001b[0m\u001b[0;34m\u001b[0m\u001b[0m\n\u001b[0m\u001b[1;32m     10\u001b[0m \u001b[0;34m\u001b[0m\u001b[0m\n\u001b[1;32m     11\u001b[0m \u001b[0;31m#verificar si el alumno aprueba a reprueba\u001b[0m\u001b[0;34m\u001b[0m\u001b[0;34m\u001b[0m\u001b[0m\n",
            "\u001b[0;31mNameError\u001b[0m: name 'calificaion2' is not defined"
          ]
        }
      ]
    }
  ],
  "metadata": {
    "colab": {
      "name": "Te damos la bienvenida a Colaboratory",
      "toc_visible": true,
      "provenance": [],
      "include_colab_link": true
    },
    "kernelspec": {
      "display_name": "Python 3",
      "name": "python3"
    }
  },
  "nbformat": 4,
  "nbformat_minor": 0
}